{
  "nbformat": 4,
  "nbformat_minor": 0,
  "metadata": {
    "colab": {
      "provenance": [],
      "authorship_tag": "ABX9TyNcu0HoL9tHy4wt/93AB6tp",
      "include_colab_link": true
    },
    "kernelspec": {
      "name": "python3",
      "display_name": "Python 3"
    },
    "language_info": {
      "name": "python"
    }
  },
  "cells": [
    {
      "cell_type": "markdown",
      "metadata": {
        "id": "view-in-github",
        "colab_type": "text"
      },
      "source": [
        "<a href=\"https://colab.research.google.com/github/8527705922/-4Feb_Ass/blob/main/houseprice1.ipynb\" target=\"_parent\"><img src=\"https://colab.research.google.com/assets/colab-badge.svg\" alt=\"Open In Colab\"/></a>"
      ]
    },
    {
      "cell_type": "code",
      "execution_count": null,
      "metadata": {
        "id": "ZpazeKgLtE0k"
      },
      "outputs": [],
      "source": [
        "import tensorflow as tf\n",
        "from tensorflow.keras.datasets import boston_housing\n",
        "from sklearn import preprocessing"
      ]
    },
    {
      "cell_type": "code",
      "source": [
        "(train_x,train_y),(test_x,test_y)=boston_housing.load_data()"
      ],
      "metadata": {
        "id": "1aJBMknrtTVJ"
      },
      "execution_count": null,
      "outputs": []
    },
    {
      "cell_type": "code",
      "source": [
        "print(\"Train shape :\",train_x.shape)\n",
        "print(\"Test shape :\",test_x.shape)\n",
        "print(\"Actual Train output :\",train_y.shape)\n",
        "print(\"Actual Test output :\",test_y.shape)"
      ],
      "metadata": {
        "colab": {
          "base_uri": "https://localhost:8080/"
        },
        "id": "dttI8qLAuNZi",
        "outputId": "40d0f66a-f1cb-4a0c-de7f-57ce6876d97e"
      },
      "execution_count": null,
      "outputs": [
        {
          "output_type": "stream",
          "name": "stdout",
          "text": [
            "Train shape : (404, 13)\n",
            "Test shape : (102, 13)\n",
            "Actual Train output : (404,)\n",
            "Actual Test output : (102,)\n"
          ]
        }
      ]
    },
    {
      "cell_type": "code",
      "source": [
        "train_x[0]"
      ],
      "metadata": {
        "colab": {
          "base_uri": "https://localhost:8080/"
        },
        "id": "ADjZFHV6uWHs",
        "outputId": "debe49a5-2a98-400d-c0f4-7e827275c71a"
      },
      "execution_count": null,
      "outputs": [
        {
          "output_type": "execute_result",
          "data": {
            "text/plain": [
              "array([  1.23247,   0.     ,   8.14   ,   0.     ,   0.538  ,   6.142  ,\n",
              "        91.7    ,   3.9769 ,   4.     , 307.     ,  21.     , 396.9    ,\n",
              "        18.72   ])"
            ]
          },
          "metadata": {},
          "execution_count": 14
        }
      ]
    },
    {
      "cell_type": "code",
      "source": [
        "train_y[0]"
      ],
      "metadata": {
        "colab": {
          "base_uri": "https://localhost:8080/"
        },
        "id": "eYADxC1ouyX5",
        "outputId": "44fe42fb-a16c-465c-f439-91dacfad0bf3"
      },
      "execution_count": null,
      "outputs": [
        {
          "output_type": "execute_result",
          "data": {
            "text/plain": [
              "15.2"
            ]
          },
          "metadata": {},
          "execution_count": 16
        }
      ]
    },
    {
      "cell_type": "code",
      "source": [
        "train_x=preprocessing.normalize(train_x)\n",
        "test_x= preprocessing.normalize(test_x)"
      ],
      "metadata": {
        "id": "fsLhDeAKvJA5"
      },
      "execution_count": null,
      "outputs": []
    },
    {
      "cell_type": "code",
      "source": [
        "train_x[0]"
      ],
      "metadata": {
        "colab": {
          "base_uri": "https://localhost:8080/"
        },
        "id": "2nfDmPZmvYZP",
        "outputId": "8e4f5d26-fd77-4129-bb7a-79d7a89b98a6"
      },
      "execution_count": null,
      "outputs": [
        {
          "output_type": "execute_result",
          "data": {
            "text/plain": [
              "array([0.0024119 , 0.        , 0.01592969, 0.        , 0.00105285,\n",
              "       0.01201967, 0.17945359, 0.00778265, 0.00782786, 0.6007879 ,\n",
              "       0.04109624, 0.77671895, 0.03663436])"
            ]
          },
          "metadata": {},
          "execution_count": 18
        }
      ]
    },
    {
      "cell_type": "code",
      "source": [
        "train_y[0]"
      ],
      "metadata": {
        "colab": {
          "base_uri": "https://localhost:8080/"
        },
        "id": "Mll6wNb1vf6e",
        "outputId": "ba17a3db-4fb3-40da-ff4e-550b86fc7766"
      },
      "execution_count": null,
      "outputs": [
        {
          "output_type": "execute_result",
          "data": {
            "text/plain": [
              "15.2"
            ]
          },
          "metadata": {},
          "execution_count": 19
        }
      ]
    },
    {
      "cell_type": "code",
      "source": [
        "from tensorflow.keras.models import Sequential\n",
        "from tensorflow.keras.layers import *"
      ],
      "metadata": {
        "id": "3MEcvXhlvk7N"
      },
      "execution_count": null,
      "outputs": []
    },
    {
      "cell_type": "code",
      "source": [
        "def HousepricePrediction():\n",
        "  model = Sequential()\n",
        "  model.add(Dense(128,activation='relu',input_shape=(train_x[0].shape)))\n",
        "  model.add(Dense(64,activation='relu'))\n",
        "  model.add(Dense(32,activation='relu'))\n",
        "  model.add(Dense(1))\n",
        "  model.compile(optimizer='rmsprop',loss='mse',metrics=['mae'])\n",
        "  return model"
      ],
      "metadata": {
        "id": "wSjXgZsDv1nT"
      },
      "execution_count": null,
      "outputs": []
    },
    {
      "cell_type": "code",
      "source": [
        "import numpy as np\n",
        "k = 4\n",
        "num_val_samples = len(train_x)\n",
        "num_epochs = 100\n",
        "all_scores = []"
      ],
      "metadata": {
        "id": "o5P7rM4k4TNe"
      },
      "execution_count": null,
      "outputs": []
    },
    {
      "cell_type": "code",
      "source": [
        "model = HousepricePrediction()\n",
        "history=model.fit(x=train_x,y=train_y, epochs=num_epochs, batch_size=1, verbose=1, validation_data=(test_x,test_y))"
      ],
      "metadata": {
        "colab": {
          "base_uri": "https://localhost:8080/"
        },
        "id": "XZ7sWsdl4t4f",
        "outputId": "508b6a8f-ee2c-4068-911a-edd6b9155d8e"
      },
      "execution_count": null,
      "outputs": [
        {
          "output_type": "stream",
          "name": "stdout",
          "text": [
            "Epoch 1/100\n",
            "404/404 [==============================] - 2s 3ms/step - loss: 125.8623 - mae: 7.8583 - val_loss: 65.2076 - val_mae: 5.9594\n",
            "Epoch 2/100\n",
            "404/404 [==============================] - 1s 3ms/step - loss: 67.4840 - mae: 5.7273 - val_loss: 62.3184 - val_mae: 5.6734\n",
            "Epoch 3/100\n",
            "404/404 [==============================] - 1s 3ms/step - loss: 63.4659 - mae: 5.4518 - val_loss: 55.7267 - val_mae: 5.5140\n",
            "Epoch 4/100\n",
            "404/404 [==============================] - 1s 3ms/step - loss: 60.5748 - mae: 5.3497 - val_loss: 55.7674 - val_mae: 5.4231\n",
            "Epoch 5/100\n",
            "404/404 [==============================] - 1s 3ms/step - loss: 59.2314 - mae: 5.2744 - val_loss: 52.8741 - val_mae: 5.3350\n",
            "Epoch 6/100\n",
            "404/404 [==============================] - 1s 2ms/step - loss: 56.7142 - mae: 5.0926 - val_loss: 56.4371 - val_mae: 5.7751\n",
            "Epoch 7/100\n",
            "404/404 [==============================] - 1s 2ms/step - loss: 53.8402 - mae: 5.0457 - val_loss: 50.9576 - val_mae: 5.1494\n",
            "Epoch 8/100\n",
            "404/404 [==============================] - 1s 3ms/step - loss: 52.2679 - mae: 4.8881 - val_loss: 60.0290 - val_mae: 5.4372\n",
            "Epoch 9/100\n",
            "404/404 [==============================] - 1s 2ms/step - loss: 49.8139 - mae: 4.6974 - val_loss: 49.5739 - val_mae: 5.2787\n",
            "Epoch 10/100\n",
            "404/404 [==============================] - 1s 4ms/step - loss: 49.3304 - mae: 4.7386 - val_loss: 48.0295 - val_mae: 4.8352\n",
            "Epoch 11/100\n",
            "404/404 [==============================] - 2s 4ms/step - loss: 48.1731 - mae: 4.7973 - val_loss: 46.3424 - val_mae: 4.7301\n",
            "Epoch 12/100\n",
            "404/404 [==============================] - 1s 3ms/step - loss: 45.2868 - mae: 4.5361 - val_loss: 44.8034 - val_mae: 4.6409\n",
            "Epoch 13/100\n",
            "404/404 [==============================] - 1s 2ms/step - loss: 43.9563 - mae: 4.5031 - val_loss: 41.2426 - val_mae: 4.4338\n",
            "Epoch 14/100\n",
            "404/404 [==============================] - 1s 2ms/step - loss: 43.1799 - mae: 4.4603 - val_loss: 40.1572 - val_mae: 4.3685\n",
            "Epoch 15/100\n",
            "404/404 [==============================] - 1s 3ms/step - loss: 40.5787 - mae: 4.3434 - val_loss: 39.0572 - val_mae: 4.5543\n",
            "Epoch 16/100\n",
            "404/404 [==============================] - 1s 2ms/step - loss: 38.9211 - mae: 4.3359 - val_loss: 42.1644 - val_mae: 4.4578\n",
            "Epoch 17/100\n",
            "404/404 [==============================] - 1s 3ms/step - loss: 37.1895 - mae: 4.2379 - val_loss: 37.1800 - val_mae: 4.1730\n",
            "Epoch 18/100\n",
            "404/404 [==============================] - 1s 3ms/step - loss: 36.4929 - mae: 4.2356 - val_loss: 34.8984 - val_mae: 4.0846\n",
            "Epoch 19/100\n",
            "404/404 [==============================] - 1s 3ms/step - loss: 35.8824 - mae: 4.1637 - val_loss: 33.8163 - val_mae: 4.2042\n",
            "Epoch 20/100\n",
            "404/404 [==============================] - 1s 3ms/step - loss: 35.6968 - mae: 4.1747 - val_loss: 35.4251 - val_mae: 4.5900\n",
            "Epoch 21/100\n",
            "404/404 [==============================] - 1s 3ms/step - loss: 33.4774 - mae: 4.2233 - val_loss: 32.8340 - val_mae: 3.9642\n",
            "Epoch 22/100\n",
            "404/404 [==============================] - 2s 4ms/step - loss: 33.5518 - mae: 4.0900 - val_loss: 31.0089 - val_mae: 3.8786\n",
            "Epoch 23/100\n",
            "404/404 [==============================] - 1s 3ms/step - loss: 33.3206 - mae: 4.1188 - val_loss: 31.0910 - val_mae: 3.8628\n",
            "Epoch 24/100\n",
            "404/404 [==============================] - 1s 3ms/step - loss: 32.4378 - mae: 3.9963 - val_loss: 30.8795 - val_mae: 3.9040\n",
            "Epoch 25/100\n",
            "404/404 [==============================] - 1s 3ms/step - loss: 30.7819 - mae: 3.9735 - val_loss: 30.4419 - val_mae: 4.1209\n",
            "Epoch 26/100\n",
            "404/404 [==============================] - 1s 3ms/step - loss: 30.8174 - mae: 3.9406 - val_loss: 28.6380 - val_mae: 3.7747\n",
            "Epoch 27/100\n",
            "404/404 [==============================] - 1s 3ms/step - loss: 30.6958 - mae: 3.9136 - val_loss: 34.9399 - val_mae: 4.0981\n",
            "Epoch 28/100\n",
            "404/404 [==============================] - 1s 3ms/step - loss: 28.7818 - mae: 3.7864 - val_loss: 31.5725 - val_mae: 4.4334\n",
            "Epoch 29/100\n",
            "404/404 [==============================] - 1s 3ms/step - loss: 28.2247 - mae: 3.7092 - val_loss: 28.3198 - val_mae: 4.0312\n",
            "Epoch 30/100\n",
            "404/404 [==============================] - 1s 3ms/step - loss: 27.1426 - mae: 3.7050 - val_loss: 30.6358 - val_mae: 4.3260\n",
            "Epoch 31/100\n",
            "404/404 [==============================] - 1s 3ms/step - loss: 26.7086 - mae: 3.6808 - val_loss: 29.0726 - val_mae: 4.1808\n",
            "Epoch 32/100\n",
            "404/404 [==============================] - 1s 3ms/step - loss: 25.5765 - mae: 3.6667 - val_loss: 26.6813 - val_mae: 3.6647\n",
            "Epoch 33/100\n",
            "404/404 [==============================] - 2s 4ms/step - loss: 24.2656 - mae: 3.6291 - val_loss: 35.2978 - val_mae: 4.1165\n",
            "Epoch 34/100\n",
            "404/404 [==============================] - 1s 3ms/step - loss: 24.6069 - mae: 3.5579 - val_loss: 30.5444 - val_mae: 3.8747\n",
            "Epoch 35/100\n",
            "404/404 [==============================] - 1s 3ms/step - loss: 23.8039 - mae: 3.5336 - val_loss: 30.8495 - val_mae: 3.8717\n",
            "Epoch 36/100\n",
            "404/404 [==============================] - 1s 3ms/step - loss: 23.8384 - mae: 3.5960 - val_loss: 27.0130 - val_mae: 3.6860\n",
            "Epoch 37/100\n",
            "404/404 [==============================] - 1s 3ms/step - loss: 22.9145 - mae: 3.5168 - val_loss: 30.9327 - val_mae: 4.3805\n",
            "Epoch 38/100\n",
            "404/404 [==============================] - 1s 3ms/step - loss: 23.0351 - mae: 3.5432 - val_loss: 29.6812 - val_mae: 4.2494\n",
            "Epoch 39/100\n",
            "404/404 [==============================] - 1s 3ms/step - loss: 22.1185 - mae: 3.3210 - val_loss: 35.1097 - val_mae: 4.7704\n",
            "Epoch 40/100\n",
            "404/404 [==============================] - 1s 3ms/step - loss: 21.9431 - mae: 3.3886 - val_loss: 26.7760 - val_mae: 3.7716\n",
            "Epoch 41/100\n",
            "404/404 [==============================] - 1s 3ms/step - loss: 21.6553 - mae: 3.3827 - val_loss: 26.0554 - val_mae: 3.6854\n",
            "Epoch 42/100\n",
            "404/404 [==============================] - 1s 3ms/step - loss: 22.1429 - mae: 3.3803 - val_loss: 26.3522 - val_mae: 3.6139\n",
            "Epoch 43/100\n",
            "404/404 [==============================] - 2s 4ms/step - loss: 21.8391 - mae: 3.3794 - val_loss: 25.0631 - val_mae: 3.5799\n",
            "Epoch 44/100\n",
            "404/404 [==============================] - 1s 4ms/step - loss: 20.0419 - mae: 3.2757 - val_loss: 34.9793 - val_mae: 4.1735\n",
            "Epoch 45/100\n",
            "404/404 [==============================] - 1s 3ms/step - loss: 20.6443 - mae: 3.2334 - val_loss: 28.1232 - val_mae: 3.7250\n",
            "Epoch 46/100\n",
            "404/404 [==============================] - 1s 3ms/step - loss: 20.6944 - mae: 3.2693 - val_loss: 39.2782 - val_mae: 4.6150\n",
            "Epoch 47/100\n",
            "404/404 [==============================] - 1s 3ms/step - loss: 19.1772 - mae: 3.2223 - val_loss: 27.4332 - val_mae: 3.6739\n",
            "Epoch 48/100\n",
            "404/404 [==============================] - 1s 3ms/step - loss: 19.8588 - mae: 3.1657 - val_loss: 40.5554 - val_mae: 4.4780\n",
            "Epoch 49/100\n",
            "404/404 [==============================] - 1s 3ms/step - loss: 19.2093 - mae: 3.2021 - val_loss: 26.9705 - val_mae: 3.7535\n",
            "Epoch 50/100\n",
            "404/404 [==============================] - 1s 3ms/step - loss: 20.3048 - mae: 3.2830 - val_loss: 30.0450 - val_mae: 3.8447\n",
            "Epoch 51/100\n",
            "404/404 [==============================] - 1s 3ms/step - loss: 19.0387 - mae: 3.1561 - val_loss: 39.0730 - val_mae: 4.9479\n",
            "Epoch 52/100\n",
            "404/404 [==============================] - 1s 3ms/step - loss: 20.3489 - mae: 3.2063 - val_loss: 32.8143 - val_mae: 4.0212\n",
            "Epoch 53/100\n",
            "404/404 [==============================] - 1s 3ms/step - loss: 20.0844 - mae: 3.1905 - val_loss: 27.2490 - val_mae: 3.6076\n",
            "Epoch 54/100\n",
            "404/404 [==============================] - 2s 4ms/step - loss: 19.0844 - mae: 3.1048 - val_loss: 27.2578 - val_mae: 3.6621\n",
            "Epoch 55/100\n",
            "404/404 [==============================] - 1s 4ms/step - loss: 19.1763 - mae: 3.0875 - val_loss: 28.3709 - val_mae: 3.7079\n",
            "Epoch 56/100\n",
            "404/404 [==============================] - 1s 3ms/step - loss: 18.7251 - mae: 3.0992 - val_loss: 51.2184 - val_mae: 5.7920\n",
            "Epoch 57/100\n",
            "404/404 [==============================] - 1s 3ms/step - loss: 18.6340 - mae: 3.0873 - val_loss: 46.8572 - val_mae: 5.2086\n",
            "Epoch 58/100\n",
            "404/404 [==============================] - 1s 3ms/step - loss: 17.6862 - mae: 3.0785 - val_loss: 26.2990 - val_mae: 3.5576\n",
            "Epoch 59/100\n",
            "404/404 [==============================] - 1s 3ms/step - loss: 18.4485 - mae: 3.0813 - val_loss: 27.7037 - val_mae: 3.6086\n",
            "Epoch 60/100\n",
            "404/404 [==============================] - 1s 3ms/step - loss: 18.8226 - mae: 3.0377 - val_loss: 30.1400 - val_mae: 4.2050\n",
            "Epoch 61/100\n",
            "404/404 [==============================] - 1s 3ms/step - loss: 17.9699 - mae: 2.9507 - val_loss: 28.2557 - val_mae: 3.6584\n",
            "Epoch 62/100\n",
            "404/404 [==============================] - 1s 3ms/step - loss: 18.3264 - mae: 3.1033 - val_loss: 34.4113 - val_mae: 4.0790\n",
            "Epoch 63/100\n",
            "404/404 [==============================] - 1s 3ms/step - loss: 19.4372 - mae: 3.1330 - val_loss: 27.7897 - val_mae: 3.8446\n",
            "Epoch 64/100\n",
            "404/404 [==============================] - 2s 4ms/step - loss: 18.2308 - mae: 3.0391 - val_loss: 31.4603 - val_mae: 4.0977\n",
            "Epoch 65/100\n",
            "404/404 [==============================] - 2s 4ms/step - loss: 17.7274 - mae: 3.0628 - val_loss: 29.9641 - val_mae: 3.8114\n",
            "Epoch 66/100\n",
            "404/404 [==============================] - 1s 3ms/step - loss: 18.5283 - mae: 3.0774 - val_loss: 26.9404 - val_mae: 3.5484\n",
            "Epoch 67/100\n",
            "404/404 [==============================] - 1s 3ms/step - loss: 17.7885 - mae: 3.1443 - val_loss: 28.8974 - val_mae: 3.6188\n",
            "Epoch 68/100\n",
            "404/404 [==============================] - 1s 3ms/step - loss: 18.3951 - mae: 3.0349 - val_loss: 30.6127 - val_mae: 3.7909\n",
            "Epoch 69/100\n",
            "404/404 [==============================] - 1s 3ms/step - loss: 17.9608 - mae: 3.0811 - val_loss: 29.2787 - val_mae: 3.6263\n",
            "Epoch 70/100\n",
            "404/404 [==============================] - 1s 3ms/step - loss: 18.3960 - mae: 3.0690 - val_loss: 28.9226 - val_mae: 3.7172\n",
            "Epoch 71/100\n",
            "404/404 [==============================] - 1s 3ms/step - loss: 17.5762 - mae: 2.9935 - val_loss: 27.5087 - val_mae: 3.5581\n",
            "Epoch 72/100\n",
            "404/404 [==============================] - 2s 4ms/step - loss: 16.6486 - mae: 2.9775 - val_loss: 28.9627 - val_mae: 3.6578\n",
            "Epoch 73/100\n",
            "404/404 [==============================] - 2s 4ms/step - loss: 17.4840 - mae: 2.9510 - val_loss: 27.7307 - val_mae: 3.8686\n",
            "Epoch 74/100\n",
            "404/404 [==============================] - 2s 4ms/step - loss: 17.4953 - mae: 3.0069 - val_loss: 28.1725 - val_mae: 3.5943\n",
            "Epoch 75/100\n",
            "404/404 [==============================] - 2s 4ms/step - loss: 17.3530 - mae: 2.9988 - val_loss: 30.0502 - val_mae: 3.8321\n",
            "Epoch 76/100\n",
            "404/404 [==============================] - 1s 3ms/step - loss: 18.0272 - mae: 2.9006 - val_loss: 33.9154 - val_mae: 3.9561\n",
            "Epoch 77/100\n",
            "404/404 [==============================] - 1s 3ms/step - loss: 17.0955 - mae: 3.0192 - val_loss: 31.4001 - val_mae: 3.7253\n",
            "Epoch 78/100\n",
            "404/404 [==============================] - 1s 3ms/step - loss: 15.9819 - mae: 2.9005 - val_loss: 30.9919 - val_mae: 3.7687\n",
            "Epoch 79/100\n",
            "404/404 [==============================] - 1s 3ms/step - loss: 17.1923 - mae: 2.9328 - val_loss: 27.2446 - val_mae: 3.4527\n",
            "Epoch 80/100\n",
            "404/404 [==============================] - 1s 3ms/step - loss: 16.6125 - mae: 2.8889 - val_loss: 31.4232 - val_mae: 3.6822\n",
            "Epoch 81/100\n",
            "404/404 [==============================] - 1s 3ms/step - loss: 16.6841 - mae: 2.9350 - val_loss: 26.7600 - val_mae: 3.5711\n",
            "Epoch 82/100\n",
            "404/404 [==============================] - 1s 4ms/step - loss: 17.6378 - mae: 2.9179 - val_loss: 26.3683 - val_mae: 3.5697\n",
            "Epoch 83/100\n",
            "404/404 [==============================] - 1s 3ms/step - loss: 16.9033 - mae: 2.9127 - val_loss: 31.3733 - val_mae: 3.7442\n",
            "Epoch 84/100\n",
            "404/404 [==============================] - 2s 4ms/step - loss: 17.9367 - mae: 2.9442 - val_loss: 27.8060 - val_mae: 3.6875\n",
            "Epoch 85/100\n",
            "404/404 [==============================] - 2s 4ms/step - loss: 16.7716 - mae: 2.9777 - val_loss: 32.0973 - val_mae: 4.3359\n",
            "Epoch 86/100\n",
            "404/404 [==============================] - 1s 3ms/step - loss: 18.0573 - mae: 2.9629 - val_loss: 27.0942 - val_mae: 3.5413\n",
            "Epoch 87/100\n",
            "404/404 [==============================] - 1s 3ms/step - loss: 18.2871 - mae: 2.9699 - val_loss: 33.4146 - val_mae: 3.8223\n",
            "Epoch 88/100\n",
            "404/404 [==============================] - 1s 3ms/step - loss: 16.7758 - mae: 2.9394 - val_loss: 35.4799 - val_mae: 4.2942\n",
            "Epoch 89/100\n",
            "404/404 [==============================] - 1s 3ms/step - loss: 16.0673 - mae: 2.8345 - val_loss: 27.6743 - val_mae: 3.5876\n",
            "Epoch 90/100\n",
            "404/404 [==============================] - 1s 3ms/step - loss: 16.7155 - mae: 2.9115 - val_loss: 31.7816 - val_mae: 3.7451\n",
            "Epoch 91/100\n",
            "404/404 [==============================] - 1s 3ms/step - loss: 17.5332 - mae: 3.0021 - val_loss: 27.6250 - val_mae: 3.7221\n",
            "Epoch 92/100\n",
            "404/404 [==============================] - 1s 3ms/step - loss: 16.2540 - mae: 2.8782 - val_loss: 27.4503 - val_mae: 3.7555\n",
            "Epoch 93/100\n",
            "404/404 [==============================] - 2s 4ms/step - loss: 16.4011 - mae: 2.8657 - val_loss: 25.7236 - val_mae: 3.4166\n",
            "Epoch 94/100\n",
            "404/404 [==============================] - 2s 4ms/step - loss: 16.3540 - mae: 2.8608 - val_loss: 33.8723 - val_mae: 4.1077\n",
            "Epoch 95/100\n",
            "404/404 [==============================] - 1s 3ms/step - loss: 15.9319 - mae: 2.9506 - val_loss: 33.9462 - val_mae: 3.8231\n",
            "Epoch 96/100\n",
            "404/404 [==============================] - 1s 3ms/step - loss: 16.7785 - mae: 2.9165 - val_loss: 29.3118 - val_mae: 3.6882\n",
            "Epoch 97/100\n",
            "404/404 [==============================] - 1s 3ms/step - loss: 15.1183 - mae: 2.8771 - val_loss: 31.6109 - val_mae: 3.7885\n",
            "Epoch 98/100\n",
            "404/404 [==============================] - 1s 3ms/step - loss: 17.3244 - mae: 2.9519 - val_loss: 31.9691 - val_mae: 3.7901\n",
            "Epoch 99/100\n",
            "404/404 [==============================] - 1s 3ms/step - loss: 15.2683 - mae: 2.8423 - val_loss: 27.7816 - val_mae: 3.6543\n",
            "Epoch 100/100\n",
            "404/404 [==============================] - 1s 3ms/step - loss: 16.9723 - mae: 2.8927 - val_loss: 28.9576 - val_mae: 3.5338\n"
          ]
        }
      ]
    },
    {
      "cell_type": "code",
      "source": [
        "test_input=[[8.65407330e-05, 0.00000000e+00, 1.13392175e-02, 0.00000000e+00, 1.12518247e-03, 1.31897603e-02, 7.53763011e-02, 1.30768051e-02, 1.09241016e-02, 4.89399752e-01, 4.41333705e-02, 8.67155186e-01, 1.75004108e-02]]\n",
        "print(\"Actual output : 21.1\")\n",
        "print(\"Predicted output : \", model.predict(test_input))"
      ],
      "metadata": {
        "colab": {
          "base_uri": "https://localhost:8080/"
        },
        "id": "8EyVHCyR5Lxr",
        "outputId": "68bc36c2-1139-4a6c-f694-1797abe51e05"
      },
      "execution_count": null,
      "outputs": [
        {
          "output_type": "stream",
          "name": "stdout",
          "text": [
            "Actual output : 21.1\n",
            "1/1 [==============================] - 0s 155ms/step\n",
            "Predicted output :  [[22.526875]]\n"
          ]
        }
      ]
    },
    {
      "cell_type": "code",
      "source": [],
      "metadata": {
        "id": "zzRb4nM878YU"
      },
      "execution_count": null,
      "outputs": []
    }
  ]
}